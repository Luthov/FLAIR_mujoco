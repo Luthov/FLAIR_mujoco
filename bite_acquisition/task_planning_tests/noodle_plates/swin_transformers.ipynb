{
 "cells": [
  {
   "cell_type": "code",
   "execution_count": 1,
   "metadata": {},
   "outputs": [
    {
     "name": "stderr",
     "output_type": "stream",
     "text": [
      "/home/isacc/miniconda3/envs/feed/lib/python3.10/site-packages/tqdm/auto.py:21: TqdmWarning: IProgress not found. Please update jupyter and ipywidgets. See https://ipywidgets.readthedocs.io/en/stable/user_install.html\n",
      "  from .autonotebook import tqdm as notebook_tqdm\n"
     ]
    }
   ],
   "source": [
    "import random\n",
    "import numpy as np\n",
    "import torch  # Assuming PyTorch is the framework used\n",
    "from transformers import AutoModelForImageClassification, TrainingArguments, Trainer, AutoImageProcessor\n",
    "from datasets import load_dataset, load_metric\n",
    "\n",
    "TRAIN=False\n",
    "\n",
    "# random.seed(0)\n",
    "# np.random.seed(0)\n",
    "# torch.manual_seed(0)\n",
    "# if torch.cuda.is_available():\n",
    "#     torch.cuda.manual_seed_all(0)\n",
    "    \n",
    "# torch.backends.cudnn.deterministic = True\n",
    "# torch.backends.cudnn.benchmark = False"
   ]
  },
  {
   "cell_type": "code",
   "execution_count": 2,
   "metadata": {},
   "outputs": [],
   "source": [
    "BASE_DIR = '/home/isacc/bite_acquisition'\n",
    "TRAIN_DIR = BASE_DIR + '/task_planning_tests/noodle_plates/log/spaghetti/classification_format/train'\n",
    "TEST_DIR = BASE_DIR + '/task_planning_tests/noodle_plates/log/spaghetti/classification_format/test'\n",
    "OUTPUT_DIR = BASE_DIR + '/task_planning_tests/noodle_plates/outputs/swin_transformers/spaghetti'\n",
    "PREDICTION_DIR = OUTPUT_DIR + '/predictions.txt'\n",
    "PLATE_NAME = 'spaghetti'"
   ]
  },
  {
   "cell_type": "code",
   "execution_count": 3,
   "metadata": {},
   "outputs": [
    {
     "name": "stderr",
     "output_type": "stream",
     "text": [
      "/tmp/ipykernel_244924/2157981157.py:1: FutureWarning: load_metric is deprecated and will be removed in the next major version of datasets. Use 'evaluate.load' instead, from the new library 🤗 Evaluate: https://huggingface.co/docs/evaluate\n",
      "  metric = load_metric(\"accuracy\")\n",
      "/home/isacc/miniconda3/envs/feed/lib/python3.10/site-packages/datasets/load.py:756: FutureWarning: The repository for accuracy contains custom code which must be executed to correctly load the metric. You can inspect the repository content at https://raw.githubusercontent.com/huggingface/datasets/2.18.0/metrics/accuracy/accuracy.py\n",
      "You can avoid this message in future by passing the argument `trust_remote_code=True`.\n",
      "Passing `trust_remote_code=True` will be mandatory to load this metric from the next major release of `datasets`.\n",
      "  warnings.warn(\n",
      "/home/isacc/miniconda3/envs/feed/lib/python3.10/site-packages/huggingface_hub/file_download.py:1132: FutureWarning: `resume_download` is deprecated and will be removed in version 1.0.0. Downloads always resume when possible. If you want to force a new download, use `force_download=True`.\n",
      "  warnings.warn(\n",
      "Could not find image processor class in the image processor config or the model config. Loading based on pattern matching with the model's feature extractor configuration. Please open a PR/issue to update `preprocessor_config.json` to use `image_processor_type` instead of `feature_extractor_type`. This warning will be removed in v4.40.\n"
     ]
    }
   ],
   "source": [
    "metric = load_metric(\"accuracy\")\n",
    "\n",
    "model_checkpoint = \"microsoft/swin-tiny-patch4-window7-224\" # pre-trained model from which to fine-tune\n",
    "batch_size = 32 # batch size for training and evaluation\n",
    "\n",
    "image_processor  = AutoImageProcessor.from_pretrained(model_checkpoint)\n",
    "image_processor \n",
    "\n",
    "from torchvision.transforms import (\n",
    "    CenterCrop,\n",
    "    Compose,\n",
    "    Normalize,\n",
    "    RandomHorizontalFlip,\n",
    "    RandomResizedCrop,\n",
    "    Resize,\n",
    "    ToTensor,\n",
    ")\n",
    "\n",
    "normalize = Normalize(mean=image_processor.image_mean, std=image_processor.image_std)\n",
    "if \"height\" in image_processor.size:\n",
    "    size = (image_processor.size[\"height\"], image_processor.size[\"width\"])\n",
    "    crop_size = size\n",
    "    max_size = None\n",
    "elif \"shortest_edge\" in image_processor.size:\n",
    "    size = image_processor.size[\"shortest_edge\"]\n",
    "    crop_size = (size, size)\n",
    "    max_size = image_processor.size.get(\"longest_edge\")\n",
    "\n",
    "train_transforms = Compose(\n",
    "        [\n",
    "            RandomResizedCrop(crop_size),\n",
    "            RandomHorizontalFlip(),\n",
    "            ToTensor(),\n",
    "            normalize,\n",
    "        ]\n",
    "    )\n",
    "\n",
    "val_transforms = Compose(\n",
    "        [\n",
    "            Resize(size),\n",
    "            CenterCrop(crop_size),\n",
    "            ToTensor(),\n",
    "            normalize,\n",
    "        ]\n",
    "    )\n",
    "\n",
    "def preprocess_train(example_batch):\n",
    "    \"\"\"Apply train_transforms across a batch.\"\"\"\n",
    "    example_batch[\"pixel_values\"] = [\n",
    "        train_transforms(image.convert(\"RGB\")) for image in example_batch[\"image\"]\n",
    "    ]\n",
    "    return example_batch\n",
    "\n",
    "def preprocess_val(example_batch):\n",
    "    \"\"\"Apply val_transforms across a batch.\"\"\"\n",
    "    example_batch[\"pixel_values\"] = [val_transforms(image.convert(\"RGB\")) for image in example_batch[\"image\"]]\n",
    "    return example_batch\n",
    "\n",
    "# the compute_metrics function takes a Named Tuple as input:\n",
    "# predictions, which are the logits of the model as Numpy arrays,\n",
    "# and label_ids, which are the ground-truth labels as Numpy arrays.\n",
    "def compute_metrics(eval_pred):\n",
    "    \"\"\"Computes accuracy on a batch of predictions\"\"\"\n",
    "    predictions = np.argmax(eval_pred.predictions, axis=1)\n",
    "    return metric.compute(predictions=predictions, references=eval_pred.label_ids)\n",
    "\n",
    "def collate_fn(examples):\n",
    "    pixel_values = torch.stack([example[\"pixel_values\"] for example in examples])\n",
    "    labels = torch.tensor([example[\"label\"] for example in examples])\n",
    "    return {\"pixel_values\": pixel_values, \"labels\": labels}"
   ]
  },
  {
   "cell_type": "code",
   "execution_count": 4,
   "metadata": {},
   "outputs": [],
   "source": [
    "if TRAIN:\n",
    "    train_dataset = load_dataset(\"imagefolder\", data_dir=TRAIN_DIR)\n",
    "    example = train_dataset[\"train\"][10]\n",
    "    example['image'].resize((200, 200))\n",
    "    example['label']\n",
    "    train_dataset[\"train\"].features[\"label\"]\n",
    "\n",
    "    # count the numbers of datapoints per class\n",
    "    from collections import Counter\n",
    "    print(Counter(train_dataset[\"train\"][\"label\"]))\n",
    "    # print(Counter(test_dataset[\"train\"][\"label\"]))"
   ]
  },
  {
   "cell_type": "code",
   "execution_count": 5,
   "metadata": {},
   "outputs": [],
   "source": [
    "if TRAIN:\n",
    "    for seed in [0, 1, 2, 3, 4]:\n",
    "        print(f\"----------Running seed {seed}----------\")\n",
    "        train_dataset = train_dataset.shuffle()\n",
    "        labels = train_dataset[\"train\"].features[\"label\"].names\n",
    "        label2id, id2label = dict(), dict()\n",
    "        for i, label in enumerate(labels):\n",
    "            label2id[label] = i\n",
    "            id2label[i] = label\n",
    "\n",
    "        # split up training into training + validation\n",
    "        splits = train_dataset[\"train\"].train_test_split(test_size=0.4)\n",
    "        train_ds = splits['train']\n",
    "        val_ds = splits['test']\n",
    "\n",
    "        print(train_ds['label'])\n",
    "        print(val_ds['label'])\n",
    "        \n",
    "        train_ds.set_transform(preprocess_train)\n",
    "        val_ds.set_transform(preprocess_val)\n",
    "        \n",
    "        model = AutoModelForImageClassification.from_pretrained(\n",
    "            model_checkpoint, \n",
    "            label2id=label2id,\n",
    "            id2label=id2label,\n",
    "            ignore_mismatched_sizes = True, # provide this in case you're planning to fine-tune an already fine-tuned checkpoint\n",
    "        )\n",
    "        \n",
    "        model_name = model_checkpoint.split(\"/\")[-1]\n",
    "\n",
    "        args = TrainingArguments(\n",
    "            OUTPUT_DIR + f\"/checkpoints/{model_name}-finetuned-{PLATE_NAME}-{seed}\",\n",
    "            remove_unused_columns=False,\n",
    "            evaluation_strategy = \"epoch\",\n",
    "            save_strategy = \"epoch\",\n",
    "            save_total_limit=2,\n",
    "            learning_rate=5e-5,\n",
    "            per_device_train_batch_size=batch_size,\n",
    "            gradient_accumulation_steps=4,\n",
    "            per_device_eval_batch_size=batch_size,\n",
    "            num_train_epochs=10,\n",
    "            warmup_ratio=0.1,\n",
    "            logging_steps=10,\n",
    "            load_best_model_at_end=True,\n",
    "            metric_for_best_model=\"accuracy\",\n",
    "            push_to_hub=False,\n",
    "            # max_grad_norm=1.0,  # Add this line for gradient clipping\n",
    "        )\n",
    "        \n",
    "        trainer = Trainer(\n",
    "            model,\n",
    "            args,\n",
    "            train_dataset=train_ds,\n",
    "            eval_dataset=val_ds,\n",
    "            tokenizer=image_processor,\n",
    "            compute_metrics=compute_metrics,\n",
    "            data_collator=collate_fn,\n",
    "        )\n",
    "        \n",
    "        train_results = trainer.train()\n",
    "        # rest is optional but nice to have\n",
    "        trainer.save_model()\n",
    "        trainer.log_metrics(\"train\", train_results.metrics)\n",
    "        trainer.save_metrics(\"train\", train_results.metrics)\n",
    "        trainer.save_state()\n",
    "        \n",
    "        metrics = trainer.evaluate()\n",
    "        # some nice to haves:\n",
    "        trainer.log_metrics(\"eval\", metrics)\n",
    "\n",
    "        # evaluate on test set without data augmentation\n",
    "        test_dataset = load_dataset(\"imagefolder\", data_dir=TEST_DIR)\n",
    "        test_dataset.set_transform(preprocess_val)\n",
    "        test_dataset = test_dataset[\"train\"]\n",
    "        metrics = trainer.evaluate(test_dataset)\n",
    "        trainer.log_metrics(\"test\", metrics)"
   ]
  },
  {
   "cell_type": "code",
   "execution_count": 6,
   "metadata": {},
   "outputs": [
    {
     "name": "stderr",
     "output_type": "stream",
     "text": [
      "/home/isacc/miniconda3/envs/feed/lib/python3.10/site-packages/accelerate/accelerator.py:432: FutureWarning: Passing the following arguments to `Accelerator` is deprecated and will be removed in version 1.0 of Accelerate: dict_keys(['dispatch_batches', 'split_batches', 'even_batches', 'use_seedable_sampler']). Please pass an `accelerate.DataLoaderConfiguration` instead: \n",
      "dataloader_config = DataLoaderConfiguration(dispatch_batches=None, split_batches=False, even_batches=True, use_seedable_sampler=True)\n",
      "  warnings.warn(\n"
     ]
    },
    {
     "name": "stdout",
     "output_type": "stream",
     "text": [
      "Evaluating the model for seed 0...\n"
     ]
    },
    {
     "name": "stderr",
     "output_type": "stream",
     "text": [
      "100%|██████████| 2/2 [00:00<00:00, 50.94it/s]\n",
      "/home/isacc/miniconda3/envs/feed/lib/python3.10/site-packages/accelerate/accelerator.py:432: FutureWarning: Passing the following arguments to `Accelerator` is deprecated and will be removed in version 1.0 of Accelerate: dict_keys(['dispatch_batches', 'split_batches', 'even_batches', 'use_seedable_sampler']). Please pass an `accelerate.DataLoaderConfiguration` instead: \n",
      "dataloader_config = DataLoaderConfiguration(dispatch_batches=None, split_batches=False, even_batches=True, use_seedable_sampler=True)\n",
      "  warnings.warn(\n"
     ]
    },
    {
     "name": "stdout",
     "output_type": "stream",
     "text": [
      "Results for seed 0: {'eval_loss': 0.47048982977867126, 'eval_accuracy': 0.926829268292683, 'eval_runtime': 0.3795, 'eval_samples_per_second': 108.034, 'eval_steps_per_second': 5.27}\n",
      "Evaluating the model for seed 1...\n"
     ]
    },
    {
     "name": "stderr",
     "output_type": "stream",
     "text": [
      "100%|██████████| 2/2 [00:00<00:00, 51.76it/s]\n",
      "/home/isacc/miniconda3/envs/feed/lib/python3.10/site-packages/accelerate/accelerator.py:432: FutureWarning: Passing the following arguments to `Accelerator` is deprecated and will be removed in version 1.0 of Accelerate: dict_keys(['dispatch_batches', 'split_batches', 'even_batches', 'use_seedable_sampler']). Please pass an `accelerate.DataLoaderConfiguration` instead: \n",
      "dataloader_config = DataLoaderConfiguration(dispatch_batches=None, split_batches=False, even_batches=True, use_seedable_sampler=True)\n",
      "  warnings.warn(\n"
     ]
    },
    {
     "name": "stdout",
     "output_type": "stream",
     "text": [
      "Results for seed 1: {'eval_loss': 0.4803057312965393, 'eval_accuracy': 0.8292682926829268, 'eval_runtime': 0.2553, 'eval_samples_per_second': 160.582, 'eval_steps_per_second': 7.833}\n",
      "Evaluating the model for seed 2...\n"
     ]
    },
    {
     "name": "stderr",
     "output_type": "stream",
     "text": [
      "100%|██████████| 2/2 [00:00<00:00, 52.18it/s]\n",
      "/home/isacc/miniconda3/envs/feed/lib/python3.10/site-packages/accelerate/accelerator.py:432: FutureWarning: Passing the following arguments to `Accelerator` is deprecated and will be removed in version 1.0 of Accelerate: dict_keys(['dispatch_batches', 'split_batches', 'even_batches', 'use_seedable_sampler']). Please pass an `accelerate.DataLoaderConfiguration` instead: \n",
      "dataloader_config = DataLoaderConfiguration(dispatch_batches=None, split_batches=False, even_batches=True, use_seedable_sampler=True)\n",
      "  warnings.warn(\n"
     ]
    },
    {
     "name": "stdout",
     "output_type": "stream",
     "text": [
      "Results for seed 2: {'eval_loss': 0.4859718680381775, 'eval_accuracy': 0.8292682926829268, 'eval_runtime': 0.2362, 'eval_samples_per_second': 173.605, 'eval_steps_per_second': 8.469}\n",
      "Evaluating the model for seed 3...\n"
     ]
    },
    {
     "name": "stderr",
     "output_type": "stream",
     "text": [
      "100%|██████████| 2/2 [00:00<00:00, 68.36it/s]\n",
      "/home/isacc/miniconda3/envs/feed/lib/python3.10/site-packages/accelerate/accelerator.py:432: FutureWarning: Passing the following arguments to `Accelerator` is deprecated and will be removed in version 1.0 of Accelerate: dict_keys(['dispatch_batches', 'split_batches', 'even_batches', 'use_seedable_sampler']). Please pass an `accelerate.DataLoaderConfiguration` instead: \n",
      "dataloader_config = DataLoaderConfiguration(dispatch_batches=None, split_batches=False, even_batches=True, use_seedable_sampler=True)\n",
      "  warnings.warn(\n"
     ]
    },
    {
     "name": "stdout",
     "output_type": "stream",
     "text": [
      "Results for seed 3: {'eval_loss': 0.6514544486999512, 'eval_accuracy': 0.5609756097560976, 'eval_runtime': 0.2399, 'eval_samples_per_second': 170.878, 'eval_steps_per_second': 8.336}\n",
      "Evaluating the model for seed 4...\n"
     ]
    },
    {
     "name": "stderr",
     "output_type": "stream",
     "text": [
      "100%|██████████| 2/2 [00:00<00:00, 37.59it/s]"
     ]
    },
    {
     "name": "stdout",
     "output_type": "stream",
     "text": [
      "Results for seed 4: {'eval_loss': 0.517752468585968, 'eval_accuracy': 0.7804878048780488, 'eval_runtime': 0.2571, 'eval_samples_per_second': 159.442, 'eval_steps_per_second': 7.778}\n",
      "Seed 0: {'eval_loss': 0.47048982977867126, 'eval_accuracy': 0.926829268292683, 'eval_runtime': 0.3795, 'eval_samples_per_second': 108.034, 'eval_steps_per_second': 5.27}\n",
      "Seed 1: {'eval_loss': 0.4803057312965393, 'eval_accuracy': 0.8292682926829268, 'eval_runtime': 0.2553, 'eval_samples_per_second': 160.582, 'eval_steps_per_second': 7.833}\n",
      "Seed 2: {'eval_loss': 0.4859718680381775, 'eval_accuracy': 0.8292682926829268, 'eval_runtime': 0.2362, 'eval_samples_per_second': 173.605, 'eval_steps_per_second': 8.469}\n",
      "Seed 3: {'eval_loss': 0.6514544486999512, 'eval_accuracy': 0.5609756097560976, 'eval_runtime': 0.2399, 'eval_samples_per_second': 170.878, 'eval_steps_per_second': 8.336}\n",
      "Seed 4: {'eval_loss': 0.517752468585968, 'eval_accuracy': 0.7804878048780488, 'eval_runtime': 0.2571, 'eval_samples_per_second': 159.442, 'eval_steps_per_second': 7.778}\n",
      "Average accuracy over all seeds: 0.7853658536585366\n"
     ]
    },
    {
     "name": "stderr",
     "output_type": "stream",
     "text": [
      "\n"
     ]
    }
   ],
   "source": [
    "# for each seed, load the best model and evaluate on the test set\n",
    "test_dataset = load_dataset(\"imagefolder\", data_dir=TEST_DIR)\n",
    "test_dataset.set_transform(preprocess_val)\n",
    "test_dataset = test_dataset[\"train\"]\n",
    "\n",
    "seed_results = {}\n",
    "\n",
    "# Iterate over each seed, load the corresponding model and evaluate it on the test dataset\n",
    "for seed in [0, 1, 2, 3, 4]:\n",
    "    model_path = OUTPUT_DIR + f\"/checkpoints/{model_checkpoint.split('/')[-1]}-finetuned-{PLATE_NAME}-{seed}\"\n",
    "    model = AutoModelForImageClassification.from_pretrained(model_path)\n",
    "    trainer = Trainer(\n",
    "        model=model,\n",
    "        args=TrainingArguments(\n",
    "            output_dir=\"./results\",  # Adjust this to wherever your models are stored\n",
    "            remove_unused_columns=False,\n",
    "            per_device_eval_batch_size=batch_size\n",
    "        ),\n",
    "        compute_metrics=compute_metrics,\n",
    "        data_collator=collate_fn,\n",
    "    )\n",
    "    print(f\"Evaluating the model for seed {seed}...\")\n",
    "    metrics = trainer.evaluate(test_dataset)\n",
    "    seed_results[seed] = metrics\n",
    "    print(f\"Results for seed {seed}: {metrics}\")\n",
    "\n",
    "for seed, results in seed_results.items():\n",
    "    print(f\"Seed {seed}: {results}\")\n",
    "\n",
    "average_metric = np.mean([result[\"eval_accuracy\"] for result in seed_results.values()])\n",
    "print(f\"Average accuracy over all seeds: {average_metric}\")"
   ]
  }
 ],
 "metadata": {
  "kernelspec": {
   "display_name": "vit",
   "language": "python",
   "name": "python3"
  },
  "language_info": {
   "codemirror_mode": {
    "name": "ipython",
    "version": 3
   },
   "file_extension": ".py",
   "mimetype": "text/x-python",
   "name": "python",
   "nbconvert_exporter": "python",
   "pygments_lexer": "ipython3",
   "version": "3.10.14"
  }
 },
 "nbformat": 4,
 "nbformat_minor": 2
}
